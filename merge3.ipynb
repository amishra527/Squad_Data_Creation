{
 "cells": [
  {
   "attachments": {},
   "cell_type": "markdown",
   "metadata": {},
   "source": [
    "##### not working senireo"
   ]
  },
  {
   "cell_type": "code",
   "execution_count": null,
   "metadata": {},
   "outputs": [],
   "source": [
    "import numpy as np # linear algebra\n",
    "import pandas as pd # data processing, CSV file I/O (e.g. pd.read_csv)\n",
    "import json\n",
    "import csv\n",
    "import ast"
   ]
  },
  {
   "cell_type": "code",
   "execution_count": null,
   "metadata": {},
   "outputs": [],
   "source": [
    "df = pd.read_csv('afterqdropdubs.csv', index_col=0)\n",
    "df.dropna()\n",
    "df.head(5)"
   ]
  },
  {
   "cell_type": "code",
   "execution_count": null,
   "metadata": {},
   "outputs": [],
   "source": [
    "df = df.astype({'id': 'str'})\n",
    "df = df.astype({'title': 'str'})\n",
    "df = df.astype({'context': 'str'})\n",
    "df = df.astype({'question': 'str'})\n",
    "# df = df.astype({'answers': 'str'})"
   ]
  },
  {
   "cell_type": "code",
   "execution_count": null,
   "metadata": {},
   "outputs": [],
   "source": [
    "df.info()"
   ]
  },
  {
   "cell_type": "code",
   "execution_count": null,
   "metadata": {},
   "outputs": [],
   "source": [
    "df['answers'] = df['answers'].apply(ast.literal_eval)"
   ]
  },
  {
   "cell_type": "code",
   "execution_count": null,
   "metadata": {},
   "outputs": [],
   "source": [
    "df1 = df\n",
    "df1"
   ]
  },
  {
   "cell_type": "code",
   "execution_count": null,
   "metadata": {},
   "outputs": [],
   "source": [
    "print(df['answers'])"
   ]
  },
  {
   "cell_type": "code",
   "execution_count": null,
   "metadata": {},
   "outputs": [],
   "source": [
    "df['answers_text'] = df['answers'].apply(lambda x: x['text'])\n",
    "df\n",
    "# df['B'] = df['A'].apply(lambda x: x['x'])"
   ]
  },
  {
   "cell_type": "code",
   "execution_count": null,
   "metadata": {},
   "outputs": [],
   "source": [
    "df['answers_start'] = df['answers'].apply(lambda x: x['answer_start'])\n",
    "df"
   ]
  },
  {
   "cell_type": "code",
   "execution_count": null,
   "metadata": {},
   "outputs": [],
   "source": [
    "#remove rows from a DataFrame that contain specific values such as empty lists [] or empty strings '' by using boolean indexing.\n",
    "\n",
    "df = df[df['answers_text'].apply(lambda x: x != [] and x != '')]\n",
    "\n",
    "# Display the resulting DataFrame with the rows removed\n",
    "df"
   ]
  },
  {
   "cell_type": "code",
   "execution_count": null,
   "metadata": {},
   "outputs": [],
   "source": [
    "# Extract the values from the 'answers' column and create new columns for 'text' and 'answer_start'\n",
    "df['answer_text'] = df['answers'].apply(lambda x: x['text'][0])\n",
    "df['answer_start'] = df['answers'].apply(lambda x: x['answer_start'][0])\n",
    "\n",
    "# Display the resulting DataFrame with separate columns for 'text' and 'answer_start'\n",
    "df"
   ]
  },
  {
   "cell_type": "code",
   "execution_count": null,
   "metadata": {},
   "outputs": [],
   "source": [
    "df.dropna()"
   ]
  },
  {
   "cell_type": "code",
   "execution_count": null,
   "metadata": {},
   "outputs": [],
   "source": [
    "def change_format(d):\n",
    "    d['text'] = d['text'][0] if isinstance(d['text'], list) and d['text'] else ''\n",
    "    d['answer_start'] = int(d['answer_start'][0]) if isinstance(d['answer_start'], list) and d['answer_start'] else 0\n",
    "    return d\n",
    "\n",
    "# Apply the function to the column\n",
    "df['answers'] = df['answers'].apply(change_format)\n",
    "\n",
    "# Display the resulting DataFrame\n",
    "df"
   ]
  },
  {
   "cell_type": "code",
   "execution_count": null,
   "metadata": {},
   "outputs": [],
   "source": [
    "def change_format(d):\n",
    "    d['text'] = d['text'][0] if isinstance(d['text'], list) and d['text'] else ''\n",
    "    if isinstance(d['answer_start'], list) and d['answer_start']:\n",
    "        try:\n",
    "            d['answer_start'] = int(d['answer_start'][0])\n",
    "        except ValueError:\n",
    "            d['answer_start'] = 0\n",
    "    else:\n",
    "        d['answer_start'] = 0\n",
    "    return d\n",
    "\n",
    "# Apply the function to the column\n",
    "df['answers'] = df['answers'].apply(change_format)\n",
    "\n",
    "# Display the resulting DataFrame\n",
    "df"
   ]
  },
  {
   "cell_type": "code",
   "execution_count": null,
   "metadata": {},
   "outputs": [],
   "source": [
    "# Use boolean indexing to remove rows where the 'col' column contains {'text': '', 'answer_start': 0}\n",
    "df = df[df['answers'].apply(lambda x: x != {'text': '', 'answer_start': 0})]\n",
    "\n",
    "# Display the resulting DataFrame\n",
    "df"
   ]
  },
  {
   "cell_type": "code",
   "execution_count": null,
   "metadata": {},
   "outputs": [],
   "source": [
    "# import pandas as pd\n",
    "\n",
    "# # Create a sample DataFrame with a column containing dictionaries\n",
    "# data = {'answers': [{'text': ['March 2018 Gathering in New Delhi'], 'answer_start': [2162]}]}\n",
    "# df = pd.DataFrame(data)\n",
    "\n",
    "# Extract the values from the 'answers' column and create new columns for 'text' and 'answer_start'\n",
    "df['answer_text'] = df['answers'].apply(lambda x: x['text'][0])\n",
    "df['answer_start'] = df['answers'].apply(lambda x: x['answer_start'][0])\n",
    "\n",
    "# Display the resulting DataFrame with separate columns for 'text' and 'answer_start'\n",
    "df"
   ]
  },
  {
   "cell_type": "code",
   "execution_count": null,
   "metadata": {},
   "outputs": [],
   "source": [
    "# Remove column name 'Answers'\n",
    "df2 = df.drop(['answers'], axis=1)\n",
    "df2"
   ]
  },
  {
   "cell_type": "code",
   "execution_count": null,
   "metadata": {},
   "outputs": [],
   "source": [
    "df2.to_csv('file.csv', index=False)"
   ]
  },
  {
   "cell_type": "code",
   "execution_count": null,
   "metadata": {},
   "outputs": [],
   "source": []
  }
 ],
 "metadata": {
  "kernelspec": {
   "display_name": "Python 3",
   "language": "python",
   "name": "python3"
  },
  "language_info": {
   "codemirror_mode": {
    "name": "ipython",
    "version": 3
   },
   "file_extension": ".py",
   "mimetype": "text/x-python",
   "name": "python",
   "nbconvert_exporter": "python",
   "pygments_lexer": "ipython3",
   "version": "3.8.10"
  },
  "orig_nbformat": 4
 },
 "nbformat": 4,
 "nbformat_minor": 2
}
